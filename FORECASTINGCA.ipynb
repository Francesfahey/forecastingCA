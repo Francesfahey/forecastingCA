{
  "nbformat": 4,
  "nbformat_minor": 0,
  "metadata": {
    "colab": {
      "provenance": [],
      "include_colab_link": true
    },
    "kernelspec": {
      "name": "python3",
      "display_name": "Python 3"
    },
    "language_info": {
      "name": "python"
    },
    "widgets": {
      "application/vnd.jupyter.widget-state+json": {
        "9d895b05483547c28073ec61bab80988": {
          "model_module": "@jupyter-widgets/controls",
          "model_name": "HBoxModel",
          "model_module_version": "1.5.0",
          "state": {
            "_dom_classes": [],
            "_model_module": "@jupyter-widgets/controls",
            "_model_module_version": "1.5.0",
            "_model_name": "HBoxModel",
            "_view_count": null,
            "_view_module": "@jupyter-widgets/controls",
            "_view_module_version": "1.5.0",
            "_view_name": "HBoxView",
            "box_style": "",
            "children": [
              "IPY_MODEL_92c5b917b4114074a06f94a932b35e02",
              "IPY_MODEL_b3b4acfc73124e7282d46ca6b02d03ca",
              "IPY_MODEL_010906266bb44fa9a235f91b479e649f"
            ],
            "layout": "IPY_MODEL_c51e2d29f7ad44b9aa4929e02412afa3"
          }
        },
        "92c5b917b4114074a06f94a932b35e02": {
          "model_module": "@jupyter-widgets/controls",
          "model_name": "HTMLModel",
          "model_module_version": "1.5.0",
          "state": {
            "_dom_classes": [],
            "_model_module": "@jupyter-widgets/controls",
            "_model_module_version": "1.5.0",
            "_model_name": "HTMLModel",
            "_view_count": null,
            "_view_module": "@jupyter-widgets/controls",
            "_view_module_version": "1.5.0",
            "_view_name": "HTMLView",
            "description": "",
            "description_tooltip": null,
            "layout": "IPY_MODEL_ceba1781bfe542a6a12ae9401840fa97",
            "placeholder": "​",
            "style": "IPY_MODEL_2ab3d9e089134ad88340c08778026331",
            "value": "100%"
          }
        },
        "b3b4acfc73124e7282d46ca6b02d03ca": {
          "model_module": "@jupyter-widgets/controls",
          "model_name": "FloatProgressModel",
          "model_module_version": "1.5.0",
          "state": {
            "_dom_classes": [],
            "_model_module": "@jupyter-widgets/controls",
            "_model_module_version": "1.5.0",
            "_model_name": "FloatProgressModel",
            "_view_count": null,
            "_view_module": "@jupyter-widgets/controls",
            "_view_module_version": "1.5.0",
            "_view_name": "ProgressView",
            "bar_style": "success",
            "description": "",
            "description_tooltip": null,
            "layout": "IPY_MODEL_b511bbc61e4c47a294d2b0a059644837",
            "max": 169,
            "min": 0,
            "orientation": "horizontal",
            "style": "IPY_MODEL_9950fe292731443992f128e1f0e83e74",
            "value": 169
          }
        },
        "010906266bb44fa9a235f91b479e649f": {
          "model_module": "@jupyter-widgets/controls",
          "model_name": "HTMLModel",
          "model_module_version": "1.5.0",
          "state": {
            "_dom_classes": [],
            "_model_module": "@jupyter-widgets/controls",
            "_model_module_version": "1.5.0",
            "_model_name": "HTMLModel",
            "_view_count": null,
            "_view_module": "@jupyter-widgets/controls",
            "_view_module_version": "1.5.0",
            "_view_name": "HTMLView",
            "description": "",
            "description_tooltip": null,
            "layout": "IPY_MODEL_7ad9898c118045c1a20571027b0b14c8",
            "placeholder": "​",
            "style": "IPY_MODEL_964ae8abbb3c4109b5a36ab765f838f2",
            "value": " 169/169 [02:19&lt;00:00,  1.13s/it]"
          }
        },
        "c51e2d29f7ad44b9aa4929e02412afa3": {
          "model_module": "@jupyter-widgets/base",
          "model_name": "LayoutModel",
          "model_module_version": "1.2.0",
          "state": {
            "_model_module": "@jupyter-widgets/base",
            "_model_module_version": "1.2.0",
            "_model_name": "LayoutModel",
            "_view_count": null,
            "_view_module": "@jupyter-widgets/base",
            "_view_module_version": "1.2.0",
            "_view_name": "LayoutView",
            "align_content": null,
            "align_items": null,
            "align_self": null,
            "border": null,
            "bottom": null,
            "display": null,
            "flex": null,
            "flex_flow": null,
            "grid_area": null,
            "grid_auto_columns": null,
            "grid_auto_flow": null,
            "grid_auto_rows": null,
            "grid_column": null,
            "grid_gap": null,
            "grid_row": null,
            "grid_template_areas": null,
            "grid_template_columns": null,
            "grid_template_rows": null,
            "height": null,
            "justify_content": null,
            "justify_items": null,
            "left": null,
            "margin": null,
            "max_height": null,
            "max_width": null,
            "min_height": null,
            "min_width": null,
            "object_fit": null,
            "object_position": null,
            "order": null,
            "overflow": null,
            "overflow_x": null,
            "overflow_y": null,
            "padding": null,
            "right": null,
            "top": null,
            "visibility": null,
            "width": null
          }
        },
        "ceba1781bfe542a6a12ae9401840fa97": {
          "model_module": "@jupyter-widgets/base",
          "model_name": "LayoutModel",
          "model_module_version": "1.2.0",
          "state": {
            "_model_module": "@jupyter-widgets/base",
            "_model_module_version": "1.2.0",
            "_model_name": "LayoutModel",
            "_view_count": null,
            "_view_module": "@jupyter-widgets/base",
            "_view_module_version": "1.2.0",
            "_view_name": "LayoutView",
            "align_content": null,
            "align_items": null,
            "align_self": null,
            "border": null,
            "bottom": null,
            "display": null,
            "flex": null,
            "flex_flow": null,
            "grid_area": null,
            "grid_auto_columns": null,
            "grid_auto_flow": null,
            "grid_auto_rows": null,
            "grid_column": null,
            "grid_gap": null,
            "grid_row": null,
            "grid_template_areas": null,
            "grid_template_columns": null,
            "grid_template_rows": null,
            "height": null,
            "justify_content": null,
            "justify_items": null,
            "left": null,
            "margin": null,
            "max_height": null,
            "max_width": null,
            "min_height": null,
            "min_width": null,
            "object_fit": null,
            "object_position": null,
            "order": null,
            "overflow": null,
            "overflow_x": null,
            "overflow_y": null,
            "padding": null,
            "right": null,
            "top": null,
            "visibility": null,
            "width": null
          }
        },
        "2ab3d9e089134ad88340c08778026331": {
          "model_module": "@jupyter-widgets/controls",
          "model_name": "DescriptionStyleModel",
          "model_module_version": "1.5.0",
          "state": {
            "_model_module": "@jupyter-widgets/controls",
            "_model_module_version": "1.5.0",
            "_model_name": "DescriptionStyleModel",
            "_view_count": null,
            "_view_module": "@jupyter-widgets/base",
            "_view_module_version": "1.2.0",
            "_view_name": "StyleView",
            "description_width": ""
          }
        },
        "b511bbc61e4c47a294d2b0a059644837": {
          "model_module": "@jupyter-widgets/base",
          "model_name": "LayoutModel",
          "model_module_version": "1.2.0",
          "state": {
            "_model_module": "@jupyter-widgets/base",
            "_model_module_version": "1.2.0",
            "_model_name": "LayoutModel",
            "_view_count": null,
            "_view_module": "@jupyter-widgets/base",
            "_view_module_version": "1.2.0",
            "_view_name": "LayoutView",
            "align_content": null,
            "align_items": null,
            "align_self": null,
            "border": null,
            "bottom": null,
            "display": null,
            "flex": null,
            "flex_flow": null,
            "grid_area": null,
            "grid_auto_columns": null,
            "grid_auto_flow": null,
            "grid_auto_rows": null,
            "grid_column": null,
            "grid_gap": null,
            "grid_row": null,
            "grid_template_areas": null,
            "grid_template_columns": null,
            "grid_template_rows": null,
            "height": null,
            "justify_content": null,
            "justify_items": null,
            "left": null,
            "margin": null,
            "max_height": null,
            "max_width": null,
            "min_height": null,
            "min_width": null,
            "object_fit": null,
            "object_position": null,
            "order": null,
            "overflow": null,
            "overflow_x": null,
            "overflow_y": null,
            "padding": null,
            "right": null,
            "top": null,
            "visibility": null,
            "width": null
          }
        },
        "9950fe292731443992f128e1f0e83e74": {
          "model_module": "@jupyter-widgets/controls",
          "model_name": "ProgressStyleModel",
          "model_module_version": "1.5.0",
          "state": {
            "_model_module": "@jupyter-widgets/controls",
            "_model_module_version": "1.5.0",
            "_model_name": "ProgressStyleModel",
            "_view_count": null,
            "_view_module": "@jupyter-widgets/base",
            "_view_module_version": "1.2.0",
            "_view_name": "StyleView",
            "bar_color": null,
            "description_width": ""
          }
        },
        "7ad9898c118045c1a20571027b0b14c8": {
          "model_module": "@jupyter-widgets/base",
          "model_name": "LayoutModel",
          "model_module_version": "1.2.0",
          "state": {
            "_model_module": "@jupyter-widgets/base",
            "_model_module_version": "1.2.0",
            "_model_name": "LayoutModel",
            "_view_count": null,
            "_view_module": "@jupyter-widgets/base",
            "_view_module_version": "1.2.0",
            "_view_name": "LayoutView",
            "align_content": null,
            "align_items": null,
            "align_self": null,
            "border": null,
            "bottom": null,
            "display": null,
            "flex": null,
            "flex_flow": null,
            "grid_area": null,
            "grid_auto_columns": null,
            "grid_auto_flow": null,
            "grid_auto_rows": null,
            "grid_column": null,
            "grid_gap": null,
            "grid_row": null,
            "grid_template_areas": null,
            "grid_template_columns": null,
            "grid_template_rows": null,
            "height": null,
            "justify_content": null,
            "justify_items": null,
            "left": null,
            "margin": null,
            "max_height": null,
            "max_width": null,
            "min_height": null,
            "min_width": null,
            "object_fit": null,
            "object_position": null,
            "order": null,
            "overflow": null,
            "overflow_x": null,
            "overflow_y": null,
            "padding": null,
            "right": null,
            "top": null,
            "visibility": null,
            "width": null
          }
        },
        "964ae8abbb3c4109b5a36ab765f838f2": {
          "model_module": "@jupyter-widgets/controls",
          "model_name": "DescriptionStyleModel",
          "model_module_version": "1.5.0",
          "state": {
            "_model_module": "@jupyter-widgets/controls",
            "_model_module_version": "1.5.0",
            "_model_name": "DescriptionStyleModel",
            "_view_count": null,
            "_view_module": "@jupyter-widgets/base",
            "_view_module_version": "1.2.0",
            "_view_name": "StyleView",
            "description_width": ""
          }
        },
        "116d3e743ffb4a4d9fc79e67a88740b8": {
          "model_module": "@jupyter-widgets/controls",
          "model_name": "HBoxModel",
          "model_module_version": "1.5.0",
          "state": {
            "_dom_classes": [],
            "_model_module": "@jupyter-widgets/controls",
            "_model_module_version": "1.5.0",
            "_model_name": "HBoxModel",
            "_view_count": null,
            "_view_module": "@jupyter-widgets/controls",
            "_view_module_version": "1.5.0",
            "_view_name": "HBoxView",
            "box_style": "",
            "children": [
              "IPY_MODEL_9bbdc23cbb4f4976b3c64102c7440210",
              "IPY_MODEL_eb442d6685354e77808c26e8ce0cb55d",
              "IPY_MODEL_6e83c5cabf2042c995494dcd02d603a7"
            ],
            "layout": "IPY_MODEL_ed463966911c49609eea8882ba1100b7"
          }
        },
        "9bbdc23cbb4f4976b3c64102c7440210": {
          "model_module": "@jupyter-widgets/controls",
          "model_name": "HTMLModel",
          "model_module_version": "1.5.0",
          "state": {
            "_dom_classes": [],
            "_model_module": "@jupyter-widgets/controls",
            "_model_module_version": "1.5.0",
            "_model_name": "HTMLModel",
            "_view_count": null,
            "_view_module": "@jupyter-widgets/controls",
            "_view_module_version": "1.5.0",
            "_view_name": "HTMLView",
            "description": "",
            "description_tooltip": null,
            "layout": "IPY_MODEL_eed8070bd7b54acba921a8cc530571f8",
            "placeholder": "​",
            "style": "IPY_MODEL_1fa8c170e614411f877196a099424ada",
            "value": "  0%"
          }
        },
        "eb442d6685354e77808c26e8ce0cb55d": {
          "model_module": "@jupyter-widgets/controls",
          "model_name": "FloatProgressModel",
          "model_module_version": "1.5.0",
          "state": {
            "_dom_classes": [],
            "_model_module": "@jupyter-widgets/controls",
            "_model_module_version": "1.5.0",
            "_model_name": "FloatProgressModel",
            "_view_count": null,
            "_view_module": "@jupyter-widgets/controls",
            "_view_module_version": "1.5.0",
            "_view_name": "ProgressView",
            "bar_style": "",
            "description": "",
            "description_tooltip": null,
            "layout": "IPY_MODEL_c7d794e0e0e241a08ab0dd5f45b7c94e",
            "max": 20736,
            "min": 0,
            "orientation": "horizontal",
            "style": "IPY_MODEL_763cc1a0460a4a2a88e8d3eb0a1f8ae2",
            "value": 43
          }
        },
        "6e83c5cabf2042c995494dcd02d603a7": {
          "model_module": "@jupyter-widgets/controls",
          "model_name": "HTMLModel",
          "model_module_version": "1.5.0",
          "state": {
            "_dom_classes": [],
            "_model_module": "@jupyter-widgets/controls",
            "_model_module_version": "1.5.0",
            "_model_name": "HTMLModel",
            "_view_count": null,
            "_view_module": "@jupyter-widgets/controls",
            "_view_module_version": "1.5.0",
            "_view_name": "HTMLView",
            "description": "",
            "description_tooltip": null,
            "layout": "IPY_MODEL_c49a5d73f0d44ee3bd6dcc60ae5f3928",
            "placeholder": "​",
            "style": "IPY_MODEL_4e25c3c2c7ff4b8ba74b79065d53f71b",
            "value": " 43/20736 [02:11&lt;9:56:14,  1.73s/it]"
          }
        },
        "ed463966911c49609eea8882ba1100b7": {
          "model_module": "@jupyter-widgets/base",
          "model_name": "LayoutModel",
          "model_module_version": "1.2.0",
          "state": {
            "_model_module": "@jupyter-widgets/base",
            "_model_module_version": "1.2.0",
            "_model_name": "LayoutModel",
            "_view_count": null,
            "_view_module": "@jupyter-widgets/base",
            "_view_module_version": "1.2.0",
            "_view_name": "LayoutView",
            "align_content": null,
            "align_items": null,
            "align_self": null,
            "border": null,
            "bottom": null,
            "display": null,
            "flex": null,
            "flex_flow": null,
            "grid_area": null,
            "grid_auto_columns": null,
            "grid_auto_flow": null,
            "grid_auto_rows": null,
            "grid_column": null,
            "grid_gap": null,
            "grid_row": null,
            "grid_template_areas": null,
            "grid_template_columns": null,
            "grid_template_rows": null,
            "height": null,
            "justify_content": null,
            "justify_items": null,
            "left": null,
            "margin": null,
            "max_height": null,
            "max_width": null,
            "min_height": null,
            "min_width": null,
            "object_fit": null,
            "object_position": null,
            "order": null,
            "overflow": null,
            "overflow_x": null,
            "overflow_y": null,
            "padding": null,
            "right": null,
            "top": null,
            "visibility": null,
            "width": null
          }
        },
        "eed8070bd7b54acba921a8cc530571f8": {
          "model_module": "@jupyter-widgets/base",
          "model_name": "LayoutModel",
          "model_module_version": "1.2.0",
          "state": {
            "_model_module": "@jupyter-widgets/base",
            "_model_module_version": "1.2.0",
            "_model_name": "LayoutModel",
            "_view_count": null,
            "_view_module": "@jupyter-widgets/base",
            "_view_module_version": "1.2.0",
            "_view_name": "LayoutView",
            "align_content": null,
            "align_items": null,
            "align_self": null,
            "border": null,
            "bottom": null,
            "display": null,
            "flex": null,
            "flex_flow": null,
            "grid_area": null,
            "grid_auto_columns": null,
            "grid_auto_flow": null,
            "grid_auto_rows": null,
            "grid_column": null,
            "grid_gap": null,
            "grid_row": null,
            "grid_template_areas": null,
            "grid_template_columns": null,
            "grid_template_rows": null,
            "height": null,
            "justify_content": null,
            "justify_items": null,
            "left": null,
            "margin": null,
            "max_height": null,
            "max_width": null,
            "min_height": null,
            "min_width": null,
            "object_fit": null,
            "object_position": null,
            "order": null,
            "overflow": null,
            "overflow_x": null,
            "overflow_y": null,
            "padding": null,
            "right": null,
            "top": null,
            "visibility": null,
            "width": null
          }
        },
        "1fa8c170e614411f877196a099424ada": {
          "model_module": "@jupyter-widgets/controls",
          "model_name": "DescriptionStyleModel",
          "model_module_version": "1.5.0",
          "state": {
            "_model_module": "@jupyter-widgets/controls",
            "_model_module_version": "1.5.0",
            "_model_name": "DescriptionStyleModel",
            "_view_count": null,
            "_view_module": "@jupyter-widgets/base",
            "_view_module_version": "1.2.0",
            "_view_name": "StyleView",
            "description_width": ""
          }
        },
        "c7d794e0e0e241a08ab0dd5f45b7c94e": {
          "model_module": "@jupyter-widgets/base",
          "model_name": "LayoutModel",
          "model_module_version": "1.2.0",
          "state": {
            "_model_module": "@jupyter-widgets/base",
            "_model_module_version": "1.2.0",
            "_model_name": "LayoutModel",
            "_view_count": null,
            "_view_module": "@jupyter-widgets/base",
            "_view_module_version": "1.2.0",
            "_view_name": "LayoutView",
            "align_content": null,
            "align_items": null,
            "align_self": null,
            "border": null,
            "bottom": null,
            "display": null,
            "flex": null,
            "flex_flow": null,
            "grid_area": null,
            "grid_auto_columns": null,
            "grid_auto_flow": null,
            "grid_auto_rows": null,
            "grid_column": null,
            "grid_gap": null,
            "grid_row": null,
            "grid_template_areas": null,
            "grid_template_columns": null,
            "grid_template_rows": null,
            "height": null,
            "justify_content": null,
            "justify_items": null,
            "left": null,
            "margin": null,
            "max_height": null,
            "max_width": null,
            "min_height": null,
            "min_width": null,
            "object_fit": null,
            "object_position": null,
            "order": null,
            "overflow": null,
            "overflow_x": null,
            "overflow_y": null,
            "padding": null,
            "right": null,
            "top": null,
            "visibility": null,
            "width": null
          }
        },
        "763cc1a0460a4a2a88e8d3eb0a1f8ae2": {
          "model_module": "@jupyter-widgets/controls",
          "model_name": "ProgressStyleModel",
          "model_module_version": "1.5.0",
          "state": {
            "_model_module": "@jupyter-widgets/controls",
            "_model_module_version": "1.5.0",
            "_model_name": "ProgressStyleModel",
            "_view_count": null,
            "_view_module": "@jupyter-widgets/base",
            "_view_module_version": "1.2.0",
            "_view_name": "StyleView",
            "bar_color": null,
            "description_width": ""
          }
        },
        "c49a5d73f0d44ee3bd6dcc60ae5f3928": {
          "model_module": "@jupyter-widgets/base",
          "model_name": "LayoutModel",
          "model_module_version": "1.2.0",
          "state": {
            "_model_module": "@jupyter-widgets/base",
            "_model_module_version": "1.2.0",
            "_model_name": "LayoutModel",
            "_view_count": null,
            "_view_module": "@jupyter-widgets/base",
            "_view_module_version": "1.2.0",
            "_view_name": "LayoutView",
            "align_content": null,
            "align_items": null,
            "align_self": null,
            "border": null,
            "bottom": null,
            "display": null,
            "flex": null,
            "flex_flow": null,
            "grid_area": null,
            "grid_auto_columns": null,
            "grid_auto_flow": null,
            "grid_auto_rows": null,
            "grid_column": null,
            "grid_gap": null,
            "grid_row": null,
            "grid_template_areas": null,
            "grid_template_columns": null,
            "grid_template_rows": null,
            "height": null,
            "justify_content": null,
            "justify_items": null,
            "left": null,
            "margin": null,
            "max_height": null,
            "max_width": null,
            "min_height": null,
            "min_width": null,
            "object_fit": null,
            "object_position": null,
            "order": null,
            "overflow": null,
            "overflow_x": null,
            "overflow_y": null,
            "padding": null,
            "right": null,
            "top": null,
            "visibility": null,
            "width": null
          }
        },
        "4e25c3c2c7ff4b8ba74b79065d53f71b": {
          "model_module": "@jupyter-widgets/controls",
          "model_name": "DescriptionStyleModel",
          "model_module_version": "1.5.0",
          "state": {
            "_model_module": "@jupyter-widgets/controls",
            "_model_module_version": "1.5.0",
            "_model_name": "DescriptionStyleModel",
            "_view_count": null,
            "_view_module": "@jupyter-widgets/base",
            "_view_module_version": "1.2.0",
            "_view_name": "StyleView",
            "description_width": ""
          }
        }
      }
    }
  },
  "cells": [
    {
      "cell_type": "markdown",
      "metadata": {
        "id": "view-in-github",
        "colab_type": "text"
      },
      "source": [
        "<a href=\"https://colab.research.google.com/github/Francesfahey/forecastingCA/blob/main/FORECASTINGCA.ipynb\" target=\"_parent\"><img src=\"https://colab.research.google.com/assets/colab-badge.svg\" alt=\"Open In Colab\"/></a>"
      ]
    },
    {
      "cell_type": "code",
      "execution_count": null,
      "metadata": {
        "id": "sqbx-_P9-MPj"
      },
      "outputs": [],
      "source": [
        "from sklearn.metrics import mean_squared_error, mean_absolute_error\n",
        "from statsmodels.graphics.tsaplots import plot_acf, plot_pacf\n",
        "from statsmodels.tsa.seasonal import seasonal_decompose, STL\n",
        "from statsmodels.stats.diagnostic import acorr_ljungbox\n",
        "from statsmodels.tsa.statespace.sarimax import SARIMAX\n",
        "from statsmodels.tsa.arima_process import ArmaProcess\n",
        "from statsmodels.graphics.gofplots import qqplot\n",
        "from statsmodels.tsa.stattools import adfuller\n",
        "from tqdm import tqdm_notebook\n",
        "from itertools import product\n",
        "from typing import Union\n",
        "\n",
        "import matplotlib.pyplot as plt\n",
        "import numpy as np\n",
        "import pandas as pd\n",
        "\n",
        "import warnings\n",
        "warnings.filterwarnings('ignore')\n",
        "\n",
        "%matplotlib inline"
      ]
    },
    {
      "cell_type": "code",
      "source": [
        "df = pd.read_csv('https://raw.githubusercontent.com/Francesfahey/forecastingCA/main/archive.csv')\n",
        "\n",
        "# show top records in the df\n",
        "df.head"
      ],
      "metadata": {
        "id": "DJVq7LO0AVtV"
      },
      "execution_count": null,
      "outputs": []
    },
    {
      "cell_type": "code",
      "source": [
        "\n",
        "fig = plt.figure()\n",
        "plt.plot(df.Month, df['Carbon Dioxide (ppm)'])\n",
        "\n",
        "plt.title('carbon dioxide levels in hawaii ')\n",
        "plt.xlabel('Month')\n",
        "plt.ylabel('Carbon Dioxide (ppm)')\n",
        "\n",
        "plt.xticks(rotation = 100, ha='right')\n",
        "\n",
        "fig.autofmt_xdate()\n",
        "plt.tight_layout()\n",
        "plt.show()\n",
        "plt.savefig('CO2_levels.png', dpi=300)"
      ],
      "metadata": {
        "id": "AB6zlewfDRof"
      },
      "execution_count": null,
      "outputs": []
    },
    {
      "cell_type": "code",
      "source": [
        "fig, ax = plt.subplots(figsize=(15,12))\n",
        "\n",
        "ax.plot(df['Month'], df['Carbon Dioxide (ppm)'])\n",
        "for i in np.arange(0, 70, 12):\n",
        "    ax.axvline(x=i, linestyle='--', color='black', linewidth=1)\n",
        "ax.set_xlabel('month')\n",
        "ax.set_ylabel('Carbon Dioxide (ppm)')\n",
        "\n",
        "plt.xticks(np.arange(0, 61, 12), np.arange(0, 61, 12))\n",
        "\n",
        "\n",
        "fig.autofmt_xdate()\n",
        "plt.tight_layout()\n",
        "\n",
        "plt.savefig('fig_seasonal.png', dpi=300)"
      ],
      "metadata": {
        "id": "DWzBJbdvX7FR"
      },
      "execution_count": null,
      "outputs": []
    },
    {
      "cell_type": "code",
      "source": [
        "decomposition = STL(df['Carbon Dioxide (ppm)'], period=12).fit()\n",
        "\n",
        "fig, (ax1, ax2, ax3, ax4) = plt.subplots(nrows=4, ncols=1, sharex=True, figsize=(12,8))\n",
        "\n",
        "ax1.plot(decomposition.observed)\n",
        "ax1.set_ylabel('Observed')\n",
        "\n",
        "ax2.plot(decomposition.trend)\n",
        "ax2.set_ylabel('Trend')\n",
        "\n",
        "ax3.plot(decomposition.seasonal)\n",
        "ax3.set_ylabel('Seasonal')\n",
        "\n",
        "ax4.plot(decomposition.resid)\n",
        "ax4.set_ylabel('Residuals')\n",
        "\n",
        "plt.xticks(np.arange(0, 61, 12), np.arange(0, 61, 12))\n",
        "\n",
        "fig.autofmt_xdate()\n",
        "plt.tight_layout()\n",
        "\n",
        "plt.savefig('fig_decomp.png', dpi=300)"
      ],
      "metadata": {
        "id": "s1ydTCvLZo66"
      },
      "execution_count": null,
      "outputs": []
    },
    {
      "cell_type": "code",
      "source": [
        "linear_ts = np.arange(0, 144, 1)\n",
        "\n",
        "decomposition = STL(linear_ts, period=12).fit()\n",
        "\n",
        "fig, (ax1, ax2, ax3, ax4) = plt.subplots(nrows=4, ncols=1, sharex=True, figsize=(10,8))\n",
        "\n",
        "ax1.plot(decomposition.observed)\n",
        "ax1.set_ylabel('Observed')\n",
        "\n",
        "ax2.plot(decomposition.trend)\n",
        "ax2.set_ylabel('Trend')\n",
        "\n",
        "ax3.plot(decomposition.seasonal)\n",
        "ax3.set_ylabel('Seasonal')\n",
        "ax3.set_ylim(-1, 1)\n",
        "\n",
        "ax4.plot(decomposition.resid)\n",
        "ax4.set_ylabel('Residuals')\n",
        "ax4.set_ylim(-1, 1)\n",
        "\n",
        "plt.xticks(np.arange(0, 61, 12), np.arange(0, 61, 12))\n",
        "\n",
        "fig.autofmt_xdate()\n",
        "plt.tight_layout()\n",
        "\n",
        "plt.savefig('fig_residuals.png', dpi=300)"
      ],
      "metadata": {
        "id": "joJuDMTeajGf"
      },
      "execution_count": null,
      "outputs": []
    },
    {
      "cell_type": "code",
      "source": [
        "ADF_result = adfuller(df['Carbon Dioxide (ppm)'])\n",
        "\n",
        "print(f'ADF Statistic: {ADF_result[0]}')\n",
        "print(f'p-value: {ADF_result[1]}')"
      ],
      "metadata": {
        "id": "B4pwcG_ZNX_Q"
      },
      "execution_count": null,
      "outputs": []
    },
    {
      "cell_type": "code",
      "source": [
        "plot_acf(df['Carbon Dioxide (ppm)'], lags=20);\n",
        "\n",
        "plt.tight_layout()\n",
        "plt.savefig('fig_CO2_1.png', dpi=300)"
      ],
      "metadata": {
        "id": "xU2iA1mlQXK6"
      },
      "execution_count": null,
      "outputs": []
    },
    {
      "cell_type": "code",
      "source": [
        "C02_diff = np.diff(df['Carbon Dioxide (ppm)'], n=1)\n",
        "print(C02_diff)"
      ],
      "metadata": {
        "id": "HCg1R2F9QwAJ",
        "colab": {
          "base_uri": "https://localhost:8080/"
        },
        "outputId": "70245bbf-10d3-4958-bbd7-4319bb8ca11b"
      },
      "execution_count": null,
      "outputs": [
        {
          "output_type": "stream",
          "name": "stdout",
          "text": [
            "[ 1.    0.45  1.25  0.02 -0.29 -0.66 -2.34 -1.05 -0.52  1.57  0.55  1.2\n",
            "  0.97  0.8   1.31  0.38 -0.33 -1.36 -2.03 -1.72 -0.54  1.69  1.24  1.29\n",
            "  0.18  0.54  1.38  0.58 -0.91 -1.54 -1.63 -1.67  0.14  1.33  1.24  0.61\n",
            "  0.57  0.75  1.13  0.55 -0.21 -1.22 -2.03 -1.78 -0.08  1.07  1.57  1.11\n",
            "  0.42  1.21  1.03  0.72 -0.68 -0.82 -2.22 -1.28 -0.6   1.07  1.27]\n"
          ]
        }
      ]
    },
    {
      "cell_type": "code",
      "source": [
        "ADF_result = adfuller(C02_diff)\n",
        "\n",
        "print(f'ADF Statistic: {ADF_result[0]}')\n",
        "print(f'p-value: {ADF_result[1]}')"
      ],
      "metadata": {
        "colab": {
          "base_uri": "https://localhost:8080/"
        },
        "id": "YQrftBggTqxJ",
        "outputId": "aab697ec-f3ef-4239-9deb-247b9ed3e0d6"
      },
      "execution_count": null,
      "outputs": [
        {
          "output_type": "stream",
          "name": "stdout",
          "text": [
            "ADF Statistic: -2.5824632724892767\n",
            "p-value: 0.09667619014146644\n"
          ]
        }
      ]
    },
    {
      "cell_type": "code",
      "source": [
        "C02_diff2 = np.diff(df['Carbon Dioxide (ppm)'], n=2)\n",
        "print(C02_diff)"
      ],
      "metadata": {
        "colab": {
          "base_uri": "https://localhost:8080/"
        },
        "id": "rTGR4OD_nO11",
        "outputId": "c26095c2-9c9e-4167-c83b-adf01dec74b4"
      },
      "execution_count": null,
      "outputs": [
        {
          "output_type": "stream",
          "name": "stdout",
          "text": [
            "[ 1.    0.45  1.25  0.02 -0.29 -0.66 -2.34 -1.05 -0.52  1.57  0.55  1.2\n",
            "  0.97  0.8   1.31  0.38 -0.33 -1.36 -2.03 -1.72 -0.54  1.69  1.24  1.29\n",
            "  0.18  0.54  1.38  0.58 -0.91 -1.54 -1.63 -1.67  0.14  1.33  1.24  0.61\n",
            "  0.57  0.75  1.13  0.55 -0.21 -1.22 -2.03 -1.78 -0.08  1.07  1.57  1.11\n",
            "  0.42  1.21  1.03  0.72 -0.68 -0.82 -2.22 -1.28 -0.6   1.07  1.27]\n"
          ]
        }
      ]
    },
    {
      "cell_type": "code",
      "source": [
        "ADF_result = adfuller(C02_diff2)\n",
        "\n",
        "print(f'ADF Statistic: {ADF_result[0]}')\n",
        "print(f'p-value: {ADF_result[1]}')"
      ],
      "metadata": {
        "colab": {
          "base_uri": "https://localhost:8080/"
        },
        "id": "Ng34FdAinSme",
        "outputId": "66f6be70-e5b9-49c8-f408-cd3d427b3a54"
      },
      "execution_count": null,
      "outputs": [
        {
          "output_type": "stream",
          "name": "stdout",
          "text": [
            "ADF Statistic: -12.346652177769334\n",
            "p-value: 5.951525041033767e-23\n"
          ]
        }
      ]
    },
    {
      "cell_type": "code",
      "source": [
        "fig, ax = plt.subplots()\n",
        "\n",
        "ax.plot(df['Month'], df['Carbon Dioxide (ppm)'])\n",
        "ax.set_xlabel('month')\n",
        "ax.set_ylabel('Carbon Dioxide (ppm)')\n",
        "ax.axvspan(37, 59, color='#808080', alpha=0.2)\n",
        "\n",
        "plt.xticks(np.arange(0, 61, 12), np.arange(0, 61, 12))\n",
        "\n",
        "fig.autofmt_xdate()\n",
        "plt.tight_layout()\n",
        "\n",
        "plt.savefig('fig_train.png', dpi=300)"
      ],
      "metadata": {
        "colab": {
          "base_uri": "https://localhost:8080/",
          "height": 487
        },
        "id": "YFwCLXq4eH3c",
        "outputId": "0d9fe339-0467-4266-9449-958f3975dfea"
      },
      "execution_count": null,
      "outputs": [
        {
          "output_type": "display_data",
          "data": {
            "text/plain": [
              "<Figure size 640x480 with 1 Axes>"
            ],
            "image/png": "[encoded data removed]"
          },
          "metadata": {}
        }
      ]
    },
    {
      "cell_type": "code",
      "source": [
        "def optimize_ARIMA(train, order_list, d) -> pd.DataFrame:\n",
        "    \n",
        "    results = []\n",
        "    \n",
        "    for order in tqdm_notebook(order_list):\n",
        "        try: \n",
        "            model = SARIMAX(train, order=(order[0], d, order[1]), simple_differencing=False).fit(disp=False)\n",
        "        except:\n",
        "            continue\n",
        "            \n",
        "        aic = model.aic\n",
        "        results.append([order, aic])\n",
        "        \n",
        "    result_df = pd.DataFrame(results)\n",
        "    result_df.columns = ['(p,q)', 'AIC']\n",
        "    \n",
        "    #Sort in ascending order, lower AIC is better\n",
        "    result_df = result_df.sort_values(by='AIC', ascending=True).reset_index(drop=True)\n",
        "    \n",
        "    return result_df"
      ],
      "metadata": {
        "id": "hDWxMg9ehn8L"
      },
      "execution_count": null,
      "outputs": []
    },
    {
      "cell_type": "code",
      "source": [
        "def optimize_SARIMA(train, order_list, d, D, s) -> pd.DataFrame:\n",
        "    \n",
        "    results = []\n",
        "    \n",
        "    for order in tqdm_notebook(order_list):\n",
        "        try: \n",
        "            model = SARIMAX(\n",
        "                train, \n",
        "                order=(order[0], d, order[1]),\n",
        "                seasonal_order=(order[2], D, order[3], s),\n",
        "                simple_differencing=False).fit(disp=False)\n",
        "        except:\n",
        "            continue\n",
        "            \n",
        "        aic = model.aic\n",
        "        results.append([order, aic])\n",
        "        \n",
        "    result_df = pd.DataFrame(results)\n",
        "    result_df.columns = ['(p,q,P,Q)', 'AIC']\n",
        "    \n",
        "    #Sort in ascending order, lower AIC is better\n",
        "    result_df = result_df.sort_values(by='AIC', ascending=True).reset_index(drop=True)\n",
        "    \n",
        "    return result_df"
      ],
      "metadata": {
        "id": "7U4LU4CteH1S"
      },
      "execution_count": null,
      "outputs": []
    },
    {
      "cell_type": "code",
      "source": [
        "ps = range(0, 13, 1)\n",
        "qs = range(0, 13, 1)\n",
        "Ps = [0]\n",
        "Qs = [0]\n",
        "\n",
        "d = 2\n",
        "D = 0\n",
        "s = 12\n",
        "\n",
        "ARIMA_order_list = list(product(ps, qs, Ps, Qs))\n",
        "\n",
        "train = df['Carbon Dioxide (ppm)'][:-12]\n",
        "\n",
        "ARIMA_result_df = optimize_SARIMA(train, ARIMA_order_list, d, D, s)\n",
        "ARIMA_result_df"
      ],
      "metadata": {
        "colab": {
          "base_uri": "https://localhost:8080/",
          "height": 456,
          "referenced_widgets": [
            "9d895b05483547c28073ec61bab80988",
            "92c5b917b4114074a06f94a932b35e02",
            "b3b4acfc73124e7282d46ca6b02d03ca",
            "010906266bb44fa9a235f91b479e649f",
            "c51e2d29f7ad44b9aa4929e02412afa3",
            "ceba1781bfe542a6a12ae9401840fa97",
            "2ab3d9e089134ad88340c08778026331",
            "b511bbc61e4c47a294d2b0a059644837",
            "9950fe292731443992f128e1f0e83e74",
            "7ad9898c118045c1a20571027b0b14c8",
            "964ae8abbb3c4109b5a36ab765f838f2"
          ]
        },
        "id": "jkHUEqy7eHzL",
        "outputId": "47af28a1-9077-4975-efc9-ce8c963007f1"
      },
      "execution_count": null,
      "outputs": [
        {
          "output_type": "display_data",
          "data": {
            "text/plain": [
              "  0%|          | 0/169 [00:00<?, ?it/s]"
            ],
            "application/vnd.jupyter.widget-view+json": {
              "version_major": 2,
              "version_minor": 0,
              "model_id": "9d895b05483547c28073ec61bab80988"
            }
          },
          "metadata": {}
        },
        {
          "output_type": "execute_result",
          "data": {
            "text/plain": [
              "          (p,q,P,Q)            AIC\n",
              "0     (12, 1, 0, 0)      70.183654\n",
              "1     (11, 2, 0, 0)      70.312317\n",
              "2     (11, 3, 0, 0)      71.043271\n",
              "3     (11, 1, 0, 0)      71.126496\n",
              "4     (11, 4, 0, 0)      71.130545\n",
              "..              ...            ...\n",
              "150   (9, 11, 0, 0)  270189.205164\n",
              "151  (10, 11, 0, 0)  270191.208225\n",
              "152  (11, 11, 0, 0)  270193.188556\n",
              "153  (12, 11, 0, 0)  270195.142709\n",
              "154   (0, 12, 0, 0)            NaN\n",
              "\n",
              "[155 rows x 2 columns]"
            ],
            "text/html": [
              "\n",
              "  <div id=\"df-d6cbea27-feb5-48fd-bfad-669ce4e7c40d\">\n",
              "    <div class=\"colab-df-container\">\n",
              "      <div>\n",
              "<style scoped>\n",
              "    .dataframe tbody tr th:only-of-type {\n",
              "        vertical-align: middle;\n",
              "    }\n",
              "\n",
              "    .dataframe tbody tr th {\n",
              "        vertical-align: top;\n",
              "    }\n",
              "\n",
              "    .dataframe thead th {\n",
              "        text-align: right;\n",
              "    }\n",
              "</style>\n",
              "<table border=\"1\" class=\"dataframe\">\n",
              "  <thead>\n",
              "    <tr style=\"text-align: right;\">\n",
              "      <th></th>\n",
              "      <th>(p,q,P,Q)</th>\n",
              "      <th>AIC</th>\n",
              "    </tr>\n",
              "  </thead>\n",
              "  <tbody>\n",
              "    <tr>\n",
              "      <th>0</th>\n",
              "      <td>(12, 1, 0, 0)</td>\n",
              "      <td>70.183654</td>\n",
              "    </tr>\n",
              "    <tr>\n",
              "      <th>1</th>\n",
              "      <td>(11, 2, 0, 0)</td>\n",
              "      <td>70.312317</td>\n",
              "    </tr>\n",
              "    <tr>\n",
              "      <th>2</th>\n",
              "      <td>(11, 3, 0, 0)</td>\n",
              "      <td>71.043271</td>\n",
              "    </tr>\n",
              "    <tr>\n",
              "      <th>3</th>\n",
              "      <td>(11, 1, 0, 0)</td>\n",
              "      <td>71.126496</td>\n",
              "    </tr>\n",
              "    <tr>\n",
              "      <th>4</th>\n",
              "      <td>(11, 4, 0, 0)</td>\n",
              "      <td>71.130545</td>\n",
              "    </tr>\n",
              "    <tr>\n",
              "      <th>...</th>\n",
              "      <td>...</td>\n",
              "      <td>...</td>\n",
              "    </tr>\n",
              "    <tr>\n",
              "      <th>150</th>\n",
              "      <td>(9, 11, 0, 0)</td>\n",
              "      <td>270189.205164</td>\n",
              "    </tr>\n",
              "    <tr>\n",
              "      <th>151</th>\n",
              "      <td>(10, 11, 0, 0)</td>\n",
              "      <td>270191.208225</td>\n",
              "    </tr>\n",
              "    <tr>\n",
              "      <th>152</th>\n",
              "      <td>(11, 11, 0, 0)</td>\n",
              "      <td>270193.188556</td>\n",
              "    </tr>\n",
              "    <tr>\n",
              "      <th>153</th>\n",
              "      <td>(12, 11, 0, 0)</td>\n",
              "      <td>270195.142709</td>\n",
              "    </tr>\n",
              "    <tr>\n",
              "      <th>154</th>\n",
              "      <td>(0, 12, 0, 0)</td>\n",
              "      <td>NaN</td>\n",
              "    </tr>\n",
              "  </tbody>\n",
              "</table>\n",
              "<p>155 rows × 2 columns</p>\n",
              "</div>\n",
              "      <button class=\"colab-df-convert\" onclick=\"convertToInteractive('df-d6cbea27-feb5-48fd-bfad-669ce4e7c40d')\"\n",
              "              title=\"Convert this dataframe to an interactive table.\"\n",
              "              style=\"display:none;\">\n",
              "        \n",
              "  <svg xmlns=\"http://www.w3.org/2000/svg\" height=\"24px\"viewBox=\"0 0 24 24\"\n",
              "       width=\"24px\">\n",
              "    <path d=\"M0 0h24v24H0V0z\" fill=\"none\"/>\n",
              "    <path d=\"M18.56 5.44l.94 2.06.94-2.06 2.06-.94-2.06-.94-.94-2.06-.94 2.06-2.06.94zm-11 1L8.5 8.5l.94-2.06 2.06-.94-2.06-.94L8.5 2.5l-.94 2.06-2.06.94zm10 10l.94 2.06.94-2.06 2.06-.94-2.06-.94-.94-2.06-.94 2.06-2.06.94z\"/><path d=\"M17.41 7.96l-1.37-1.37c-.4-.4-.92-.59-1.43-.59-.52 0-1.04.2-1.43.59L10.3 9.45l-7.72 7.72c-.78.78-.78 2.05 0 2.83L4 21.41c.39.39.9.59 1.41.59.51 0 1.02-.2 1.41-.59l7.78-7.78 2.81-2.81c.8-.78.8-2.07 0-2.86zM5.41 20L4 18.59l7.72-7.72 1.47 1.35L5.41 20z\"/>\n",
              "  </svg>\n",
              "      </button>\n",
              "      \n",
              "  <style>\n",
              "    .colab-df-container {\n",
              "      display:flex;\n",
              "      flex-wrap:wrap;\n",
              "      gap: 12px;\n",
              "    }\n",
              "\n",
              "    .colab-df-convert {\n",
              "      background-color: #E8F0FE;\n",
              "      border: none;\n",
              "      border-radius: 50%;\n",
              "      cursor: pointer;\n",
              "      display: none;\n",
              "      fill: #1967D2;\n",
              "      height: 32px;\n",
              "      padding: 0 0 0 0;\n",
              "      width: 32px;\n",
              "    }\n",
              "\n",
              "    .colab-df-convert:hover {\n",
              "      background-color: #E2EBFA;\n",
              "      box-shadow: 0px 1px 2px rgba(60, 64, 67, 0.3), 0px 1px 3px 1px rgba(60, 64, 67, 0.15);\n",
              "      fill: #174EA6;\n",
              "    }\n",
              "\n",
              "    [theme=dark] .colab-df-convert {\n",
              "      background-color: #3B4455;\n",
              "      fill: #D2E3FC;\n",
              "    }\n",
              "\n",
              "    [theme=dark] .colab-df-convert:hover {\n",
              "      background-color: #434B5C;\n",
              "      box-shadow: 0px 1px 3px 1px rgba(0, 0, 0, 0.15);\n",
              "      filter: drop-shadow(0px 1px 2px rgba(0, 0, 0, 0.3));\n",
              "      fill: #FFFFFF;\n",
              "    }\n",
              "  </style>\n",
              "\n",
              "      <script>\n",
              "        const buttonEl =\n",
              "          document.querySelector('#df-d6cbea27-feb5-48fd-bfad-669ce4e7c40d button.colab-df-convert');\n",
              "        buttonEl.style.display =\n",
              "          google.colab.kernel.accessAllowed ? 'block' : 'none';\n",
              "\n",
              "        async function convertToInteractive(key) {\n",
              "          const element = document.querySelector('#df-d6cbea27-feb5-48fd-bfad-669ce4e7c40d');\n",
              "          const dataTable =\n",
              "            await google.colab.kernel.invokeFunction('convertToInteractive',\n",
              "                                                     [key], {});\n",
              "          if (!dataTable) return;\n",
              "\n",
              "          const docLinkHtml = 'Like what you see? Visit the ' +\n",
              "            '<a target=\"_blank\" href=https://colab.research.google.com/notebooks/data_table.ipynb>data table notebook</a>'\n",
              "            + ' to learn more about interactive tables.';\n",
              "          element.innerHTML = '';\n",
              "          dataTable['output_type'] = 'display_data';\n",
              "          await google.colab.output.renderOutput(dataTable, element);\n",
              "          const docLink = document.createElement('div');\n",
              "          docLink.innerHTML = docLinkHtml;\n",
              "          element.appendChild(docLink);\n",
              "        }\n",
              "      </script>\n",
              "    </div>\n",
              "  </div>\n",
              "  "
            ]
          },
          "metadata": {},
          "execution_count": 20
        }
      ]
    },
    {
      "cell_type": "code",
      "source": [
        "ps = range(0, 12, 1)\n",
        "qs = range(0, 12, 1)\n",
        "Ps = range(0, 12, 1)\n",
        "Qs = range(0, 12, 1)\n",
        "\n",
        "SARIMA_order_list = list(product(ps, qs, Ps, Qs))\n",
        "\n",
        "train = df['Carbon Dioxide (ppm)'][:-12]\n",
        "\n",
        "d = 2\n",
        "D = 1\n",
        "s = 12\n",
        "\n",
        "SARIMA_result_df = optimize_SARIMA(train, SARIMA_order_list, d, D, s)\n",
        "SARIMA_result_df"
      ],
      "metadata": {
        "colab": {
          "base_uri": "https://localhost:8080/",
          "height": 49,
          "referenced_widgets": [
            "116d3e743ffb4a4d9fc79e67a88740b8",
            "9bbdc23cbb4f4976b3c64102c7440210",
            "eb442d6685354e77808c26e8ce0cb55d",
            "6e83c5cabf2042c995494dcd02d603a7",
            "ed463966911c49609eea8882ba1100b7",
            "eed8070bd7b54acba921a8cc530571f8",
            "1fa8c170e614411f877196a099424ada",
            "c7d794e0e0e241a08ab0dd5f45b7c94e",
            "763cc1a0460a4a2a88e8d3eb0a1f8ae2",
            "c49a5d73f0d44ee3bd6dcc60ae5f3928",
            "4e25c3c2c7ff4b8ba74b79065d53f71b"
          ]
        },
        "id": "07X5vlsceHv5",
        "outputId": "fdcbeb8c-5206-4330-b055-75232562d77e"
      },
      "execution_count": null,
      "outputs": [
        {
          "data": {
            "application/vnd.jupyter.widget-view+json": {
              "model_id": "116d3e743ffb4a4d9fc79e67a88740b8",
              "version_major": 2,
              "version_minor": 0
            },
            "text/plain": [
              "  0%|          | 0/20736 [00:00<?, ?it/s]"
            ]
          },
          "metadata": {},
          "output_type": "display_data"
        }
      ]
    },
    {
      "cell_type": "code",
      "source": [],
      "metadata": {
        "id": "uSWkQOhoeHuC"
      },
      "execution_count": null,
      "outputs": []
    },
    {
      "cell_type": "code",
      "source": [],
      "metadata": {
        "id": "HrDGPXaTeHom"
      },
      "execution_count": null,
      "outputs": []
    },
    {
      "cell_type": "code",
      "source": [],
      "metadata": {
        "id": "Rg-9k59beHk0"
      },
      "execution_count": null,
      "outputs": []
    },
    {
      "cell_type": "code",
      "source": [],
      "metadata": {
        "id": "31X4G90heHg_"
      },
      "execution_count": null,
      "outputs": []
    },
    {
      "cell_type": "code",
      "source": [],
      "metadata": {
        "id": "wO_P3Sz7eHbl"
      },
      "execution_count": null,
      "outputs": []
    },
    {
      "cell_type": "code",
      "source": [],
      "metadata": {
        "id": "FhE10P4FeHRu"
      },
      "execution_count": null,
      "outputs": []
    },
    {
      "cell_type": "code",
      "source": [
        "plot_acf(C02_diff, lags=20);\n",
        "\n",
        "\n",
        "plt.tight_layout()\n",
        "plt.savefig('fig_passengers.png', dpi=300)"
      ],
      "metadata": {
        "colab": {
          "base_uri": "https://localhost:8080/",
          "height": 487
        },
        "id": "c2teh1xcT8T6",
        "outputId": "7554b14f-977e-4b1f-8958-77a261752365"
      },
      "execution_count": null,
      "outputs": [
        {
          "output_type": "display_data",
          "data": {
            "text/plain": [
              "<Figure size 640x480 with 1 Axes>"
            ],
            "image/png": "[encoded data removed]"
          },
          "metadata": {}
        }
      ]
    }
  ]
}